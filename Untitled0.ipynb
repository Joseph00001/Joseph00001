{
  "nbformat": 4,
  "nbformat_minor": 0,
  "metadata": {
    "colab": {
      "name": "Untitled0.ipynb",
      "provenance": [],
      "authorship_tag": "ABX9TyPEyJGrVqFppEOtdxhH26eh",
      "include_colab_link": true
    },
    "kernelspec": {
      "name": "python3",
      "display_name": "Python 3"
    },
    "language_info": {
      "name": "python"
    }
  },
  "cells": [
    {
      "cell_type": "markdown",
      "metadata": {
        "id": "view-in-github",
        "colab_type": "text"
      },
      "source": [
        "<a href=\"https://colab.research.google.com/github/Joseph00001/Joseph00001/blob/main/Untitled0.ipynb\" target=\"_parent\"><img src=\"https://colab.research.google.com/assets/colab-badge.svg\" alt=\"Open In Colab\"/></a>"
      ]
    },
    {
      "cell_type": "code",
      "execution_count": null,
      "metadata": {
        "colab": {
          "base_uri": "https://localhost:8080/"
        },
        "id": "ClIQ0IpX9_MY",
        "outputId": "4b337009-6124-45c7-9869-3f30e4fafb90"
      },
      "outputs": [
        {
          "output_type": "stream",
          "name": "stdout",
          "text": [
            "the sum of 3.3 and 6.9 is 10.2\n"
          ]
        }
      ],
      "source": [
        "num1 = 3.3\n",
        "num2 = 6.9\n",
        "sum = num1 + num2\n",
        "print('the sum of {0} and {1} is {2}'.format(num1,num2,sum))"
      ]
    },
    {
      "cell_type": "code",
      "source": [
        "num1 = input('enter first number:')\n",
        "num2 = input('enter second number:')\n",
        "sum = float(num1) + float(num2)\n",
        "print('the sum of {0} and {1} is {2}'.format(num1,num2,sum))"
      ],
      "metadata": {
        "colab": {
          "base_uri": "https://localhost:8080/"
        },
        "id": "EI7rQ5b4-mPp",
        "outputId": "3e44b05e-b73d-4fb0-f2c9-c0ebc07316bd"
      },
      "execution_count": null,
      "outputs": [
        {
          "output_type": "stream",
          "name": "stdout",
          "text": [
            "enter first number:222.22\n",
            "enter second number:22.2\n",
            "the sum of 222.22 and 22.2 is 244.42\n"
          ]
        }
      ]
    },
    {
      "cell_type": "code",
      "source": [
        "num = 125\n",
        "num_sqrt = num**0.5\n",
        "print('the square root of %0.5f is %0.5f'%(num,num_sqrt))"
      ],
      "metadata": {
        "colab": {
          "base_uri": "https://localhost:8080/"
        },
        "id": "Pk5Entu5_eI2",
        "outputId": "e0122404-38ab-45a9-d6d8-1925fed1d9d1"
      },
      "execution_count": null,
      "outputs": [
        {
          "output_type": "stream",
          "name": "stdout",
          "text": [
            "the square root of 125.00000 is 11.18034\n"
          ]
        }
      ]
    },
    {
      "cell_type": "code",
      "source": [
        "import cmath\n",
        "num = 1+2j\n",
        "num_sqrt = cmath.sqrt(num)\n",
        "print('the sum root of {0} is {1:0.5f} + {2:0.5f}j'.format(num,num_sqrt.real,num_sqrt.imag))"
      ],
      "metadata": {
        "colab": {
          "base_uri": "https://localhost:8080/"
        },
        "id": "IvueokMmDLSp",
        "outputId": "d25f60e4-f9c0-4042-d671-467f7d627a4b"
      },
      "execution_count": null,
      "outputs": [
        {
          "output_type": "stream",
          "name": "stdout",
          "text": [
            "the sum root of (1+2j) is 1.27202 + 0.78615j\n"
          ]
        }
      ]
    },
    {
      "cell_type": "code",
      "source": [
        "a = 15\n",
        "b = 24\n",
        "c = 26\n",
        "s = (a+b+c)/2\n",
        "area = (s*(s-a)*(s-b)*(s-c))**0.5\n",
        "print('the area of the triangle is %0.5f'%area)"
      ],
      "metadata": {
        "colab": {
          "base_uri": "https://localhost:8080/"
        },
        "id": "xp0SxN0TMpYK",
        "outputId": "0034dd92-6d51-49cc-d3b0-2a0dae1c061b"
      },
      "execution_count": null,
      "outputs": [
        {
          "output_type": "stream",
          "name": "stdout",
          "text": [
            "the area of the triangle is 177.26657\n"
          ]
        }
      ]
    },
    {
      "cell_type": "code",
      "source": [
        "x = 5\n",
        "y = 10\n",
        "temp = x\n",
        "x = y\n",
        "y = temp\n",
        "print('the value of x after swapping: {}'.format(x))\n",
        "print('the value of y after swapping: {}'.format(y))"
      ],
      "metadata": {
        "colab": {
          "base_uri": "https://localhost:8080/"
        },
        "id": "Fdl0tFuJOG39",
        "outputId": "bff7da36-3e0d-42d1-aca6-882179f60016"
      },
      "execution_count": null,
      "outputs": [
        {
          "output_type": "stream",
          "name": "stdout",
          "text": [
            "the value of x after swapping: 10\n",
            "the value of y after swapping: 5\n"
          ]
        }
      ]
    },
    {
      "cell_type": "code",
      "source": [
        "website = 'anime.com'\n",
        "print(website)"
      ],
      "metadata": {
        "colab": {
          "base_uri": "https://localhost:8080/"
        },
        "id": "GDMyS52hOw5b",
        "outputId": "ac90ec2c-0a03-436c-e611-915b245bd947"
      },
      "execution_count": null,
      "outputs": [
        {
          "output_type": "stream",
          "name": "stdout",
          "text": [
            "anime.com\n"
          ]
        }
      ]
    },
    {
      "cell_type": "code",
      "source": [
        "website = 'anime.com'\n",
        "print(website)\n",
        "website = 'manga.com'\n",
        "print(website)\n",
        "website = 'crunchroll.com'\n",
        "print(website)\n",
        "website = 'funimation.com'\n",
        "print(website)"
      ],
      "metadata": {
        "colab": {
          "base_uri": "https://localhost:8080/"
        },
        "id": "zenNjFT3PSHQ",
        "outputId": "bf0af524-0cad-4626-e906-32233ff2cc68"
      },
      "execution_count": null,
      "outputs": [
        {
          "output_type": "stream",
          "name": "stdout",
          "text": [
            "anime.com\n",
            "manga.com\n",
            "crunchroll.com\n",
            "funimation.com\n"
          ]
        }
      ]
    },
    {
      "cell_type": "code",
      "source": [
        "a,b,c = 12,24.26,'hellllo'\n",
        "print(a)\n",
        "print(b)\n",
        "print(c)"
      ],
      "metadata": {
        "colab": {
          "base_uri": "https://localhost:8080/"
        },
        "id": "1exRoozGQ8JX",
        "outputId": "6a18f796-0ad4-4697-9dc3-88cef3a6e1ed"
      },
      "execution_count": null,
      "outputs": [
        {
          "output_type": "stream",
          "name": "stdout",
          "text": [
            "12\n",
            "24.26\n",
            "hellllo\n"
          ]
        }
      ]
    },
    {
      "cell_type": "code",
      "source": [
        "a = b = c = 'same'\n",
        "print(a)\n",
        "print(b)\n",
        "print(c)"
      ],
      "metadata": {
        "colab": {
          "base_uri": "https://localhost:8080/"
        },
        "id": "ZF0uYMZ2RZTV",
        "outputId": "f6b352de-8081-43a9-93f4-bff93a1f53ee"
      },
      "execution_count": null,
      "outputs": [
        {
          "output_type": "stream",
          "name": "stdout",
          "text": [
            "same\n",
            "same\n",
            "same\n"
          ]
        }
      ]
    }
  ]
}