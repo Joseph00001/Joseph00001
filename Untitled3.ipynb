{
  "nbformat": 4,
  "nbformat_minor": 0,
  "metadata": {
    "colab": {
      "name": "Untitled3.ipynb",
      "provenance": [],
      "collapsed_sections": [],
      "authorship_tag": "ABX9TyNSd7xeIAuMuvDvrlvdW7Sj",
      "include_colab_link": true
    },
    "kernelspec": {
      "name": "python3",
      "display_name": "Python 3"
    },
    "language_info": {
      "name": "python"
    }
  },
  "cells": [
    {
      "cell_type": "markdown",
      "metadata": {
        "id": "view-in-github",
        "colab_type": "text"
      },
      "source": [
        "<a href=\"https://colab.research.google.com/github/Joseph00001/Joseph00001/blob/main/Untitled3.ipynb\" target=\"_parent\"><img src=\"https://colab.research.google.com/assets/colab-badge.svg\" alt=\"Open In Colab\"/></a>"
      ]
    },
    {
      "cell_type": "code",
      "execution_count": null,
      "metadata": {
        "colab": {
          "base_uri": "https://localhost:8080/"
        },
        "id": "6zN22-2i5jUG",
        "outputId": "d76327f5-372b-442a-96d5-3a5dcf907663"
      },
      "outputs": [
        {
          "output_type": "stream",
          "name": "stdout",
          "text": [
            "20\n",
            "asim\n",
            "4.4\n"
          ]
        }
      ],
      "source": [
        "number = 20\n",
        "name = 'asim'\n",
        "b = 4.4\n",
        "print(number)\n",
        "print(name)\n",
        "print(b)"
      ]
    },
    {
      "cell_type": "code",
      "source": [
        "name = 'python'\n",
        "print(name)"
      ],
      "metadata": {
        "id": "7JZySmxK6GvX",
        "colab": {
          "base_uri": "https://localhost:8080/"
        },
        "outputId": "0cfa27f9-c7a6-4500-d261-00cb0d6c3dbe"
      },
      "execution_count": null,
      "outputs": [
        {
          "output_type": "stream",
          "name": "stdout",
          "text": [
            "python\n"
          ]
        }
      ]
    },
    {
      "cell_type": "code",
      "source": [
        "x = y = z = 'software testing help'\n",
        "print(x)\n",
        "print(y)\n",
        "print(z)"
      ],
      "metadata": {
        "colab": {
          "base_uri": "https://localhost:8080/"
        },
        "id": "ffvtRHlE6ij_",
        "outputId": "1a1df26b-ef4f-4b4c-edda-cbc3202cf48f"
      },
      "execution_count": null,
      "outputs": [
        {
          "output_type": "stream",
          "name": "stdout",
          "text": [
            "software testing help\n",
            "software testing help\n",
            "software testing help\n"
          ]
        }
      ]
    },
    {
      "cell_type": "code",
      "source": [
        "a,b,c = 2,4.5,'hello'\n",
        "print(a)\n",
        "print(b)\n",
        "print(c)"
      ],
      "metadata": {
        "colab": {
          "base_uri": "https://localhost:8080/"
        },
        "id": "xBQ2aYpr67A0",
        "outputId": "13d4c678-2ec1-40a9-ba92-a16e96e95a57"
      },
      "execution_count": null,
      "outputs": [
        {
          "output_type": "stream",
          "name": "stdout",
          "text": [
            "2\n",
            "4.5\n",
            "hello\n"
          ]
        }
      ]
    },
    {
      "cell_type": "code",
      "source": [
        "a = 5\n",
        "print(a,'is of type' , type(a))"
      ],
      "metadata": {
        "colab": {
          "base_uri": "https://localhost:8080/"
        },
        "id": "z7L05Qos7Z28",
        "outputId": "c11a8119-ca6a-4257-c0bf-1eee929bb01d"
      },
      "execution_count": null,
      "outputs": [
        {
          "output_type": "stream",
          "name": "stdout",
          "text": [
            "5 is of type <class 'int'>\n"
          ]
        }
      ]
    },
    {
      "cell_type": "code",
      "source": [
        "b = 2.5\n",
        "print(b, 'is of type' , type (b))"
      ],
      "metadata": {
        "colab": {
          "base_uri": "https://localhost:8080/"
        },
        "id": "DQwaWUfg7oM9",
        "outputId": "7ce16f43-bbf5-49ba-815d-f574d6f8372f"
      },
      "execution_count": null,
      "outputs": [
        {
          "output_type": "stream",
          "name": "stdout",
          "text": [
            "2.5 is of type <class 'float'>\n"
          ]
        }
      ]
    },
    {
      "cell_type": "code",
      "source": [
        "string1 = 'welcome'\n",
        "string2 = 'to python'\n",
        "print(string1 + string2)"
      ],
      "metadata": {
        "colab": {
          "base_uri": "https://localhost:8080/"
        },
        "id": "b0QVvTfm79Dy",
        "outputId": "c0675c88-db82-42cd-9bec-5b1448002186"
      },
      "execution_count": null,
      "outputs": [
        {
          "output_type": "stream",
          "name": "stdout",
          "text": [
            "welcometo python\n"
          ]
        }
      ]
    },
    {
      "cell_type": "code",
      "source": [
        "string1 = 'welcome'\n",
        "string2 = 'to python'\n",
        "print(string1*4)"
      ],
      "metadata": {
        "colab": {
          "base_uri": "https://localhost:8080/"
        },
        "id": "lNVO43Iu85td",
        "outputId": "67c7579d-ef09-4494-c474-b6a2905675fe"
      },
      "execution_count": null,
      "outputs": [
        {
          "output_type": "stream",
          "name": "stdout",
          "text": [
            "welcomewelcomewelcomewelcome\n"
          ]
        }
      ]
    },
    {
      "cell_type": "code",
      "source": [
        "string1 = 'welcome'\n",
        "string2 = 'to python'\n",
        "print(string1[2:5])"
      ],
      "metadata": {
        "colab": {
          "base_uri": "https://localhost:8080/"
        },
        "id": "awBiiyBk9kGb",
        "outputId": "3c1c039f-80ed-4202-fc88-fcbc73cd9ed6"
      },
      "execution_count": null,
      "outputs": [
        {
          "output_type": "stream",
          "name": "stdout",
          "text": [
            "lco\n"
          ]
        }
      ]
    },
    {
      "cell_type": "code",
      "source": [
        "string1 = 'welcome'\n",
        "string2 = 'to python'\n",
        "print(string1[-3:])"
      ],
      "metadata": {
        "colab": {
          "base_uri": "https://localhost:8080/"
        },
        "id": "L0DfCPtO9kEe",
        "outputId": "6ced1916-500f-458b-db33-169d8df6b9af"
      },
      "execution_count": null,
      "outputs": [
        {
          "output_type": "stream",
          "name": "stdout",
          "text": [
            "ome\n"
          ]
        }
      ]
    },
    {
      "cell_type": "code",
      "source": [
        "string1 = 'welcome'\n",
        "string2 = 'to python'\n",
        "string[1]='d'"
      ],
      "metadata": {
        "colab": {
          "base_uri": "https://localhost:8080/",
          "height": 200
        },
        "id": "-oLfzXdu-LdO",
        "outputId": "c5b39f2b-f554-4c28-ac64-ca2f09fb2f71"
      },
      "execution_count": null,
      "outputs": [
        {
          "output_type": "error",
          "ename": "NameError",
          "evalue": "ignored",
          "traceback": [
            "\u001b[0;31m---------------------------------------------------------------------------\u001b[0m",
            "\u001b[0;31mNameError\u001b[0m                                 Traceback (most recent call last)",
            "\u001b[0;32m<ipython-input-1-11f9bc0d76d0>\u001b[0m in \u001b[0;36m<module>\u001b[0;34m()\u001b[0m\n\u001b[1;32m      1\u001b[0m \u001b[0mstring1\u001b[0m \u001b[0;34m=\u001b[0m \u001b[0;34m'welcome'\u001b[0m\u001b[0;34m\u001b[0m\u001b[0;34m\u001b[0m\u001b[0m\n\u001b[1;32m      2\u001b[0m \u001b[0mstring2\u001b[0m \u001b[0;34m=\u001b[0m \u001b[0;34m'to python'\u001b[0m\u001b[0;34m\u001b[0m\u001b[0;34m\u001b[0m\u001b[0m\n\u001b[0;32m----> 3\u001b[0;31m \u001b[0mstring\u001b[0m\u001b[0;34m[\u001b[0m\u001b[0;36m1\u001b[0m\u001b[0;34m]\u001b[0m\u001b[0;34m=\u001b[0m\u001b[0;34m'd'\u001b[0m\u001b[0;34m\u001b[0m\u001b[0;34m\u001b[0m\u001b[0m\n\u001b[0m",
            "\u001b[0;31mNameError\u001b[0m: name 'string' is not defined"
          ]
        }
      ]
    },
    {
      "cell_type": "code",
      "source": [
        "list = (2,4,5.,'hi')\n",
        "print('list[2] =' , list[2])"
      ],
      "metadata": {
        "colab": {
          "base_uri": "https://localhost:8080/"
        },
        "id": "QEJ0nJM5-smc",
        "outputId": "0ef98a4c-90e2-4e71-9706-1eb5aa1b6cb0"
      },
      "execution_count": null,
      "outputs": [
        {
          "output_type": "stream",
          "name": "stdout",
          "text": [
            "list[2] = 5.0\n"
          ]
        }
      ]
    },
    {
      "cell_type": "code",
      "source": [
        "list = [2,4,5.5,'hi']\n",
        "print('list[0:3] = ',list[0:3])"
      ],
      "metadata": {
        "colab": {
          "base_uri": "https://localhost:8080/"
        },
        "id": "w45NwtZb-7X8",
        "outputId": "23ab9680-8172-4ab5-f3d1-4db076f700c2"
      },
      "execution_count": null,
      "outputs": [
        {
          "output_type": "stream",
          "name": "stdout",
          "text": [
            "list[0:3] =  [2, 4, 5.5]\n"
          ]
        }
      ]
    },
    {
      "cell_type": "code",
      "source": [
        "list = [2,4,5.5,'hi']\n",
        "list[3] = 'hello'\n",
        "print(list)"
      ],
      "metadata": {
        "colab": {
          "base_uri": "https://localhost:8080/"
        },
        "id": "qy4TzPYSLC-J",
        "outputId": "b8046df9-20a9-41ad-c2e8-ed223f84afff"
      },
      "execution_count": null,
      "outputs": [
        {
          "output_type": "stream",
          "name": "stdout",
          "text": [
            "[2, 4, 5.5, 'hello']\n"
          ]
        }
      ]
    },
    {
      "cell_type": "code",
      "source": [
        "tuple = (14,24,15.27,'python')\n",
        "print('tuple[1] =', tuple[1])\n"
      ],
      "metadata": {
        "colab": {
          "base_uri": "https://localhost:8080/"
        },
        "id": "02kGcLV8L5bV",
        "outputId": "68b6495c-9be5-445a-aaf2-472755c6eb87"
      },
      "execution_count": null,
      "outputs": [
        {
          "output_type": "stream",
          "name": "stdout",
          "text": [
            "tuple[1] = 24\n"
          ]
        }
      ]
    },
    {
      "cell_type": "code",
      "source": [
        "tuple = (14,24,15.27,'python')\n",
        "print('tuple[0:3] = ', tuple[0:3])\n"
      ],
      "metadata": {
        "colab": {
          "base_uri": "https://localhost:8080/"
        },
        "id": "44wA18E6MrVA",
        "outputId": "89fbcd79-4987-4331-dcc1-792808a814cc"
      },
      "execution_count": null,
      "outputs": [
        {
          "output_type": "stream",
          "name": "stdout",
          "text": [
            "tuple[0:3] =  (14, 24, 15.27)\n"
          ]
        }
      ]
    },
    {
      "cell_type": "code",
      "source": [
        "set = {5,10,1.5,'python'}\n",
        "print(set)"
      ],
      "metadata": {
        "colab": {
          "base_uri": "https://localhost:8080/"
        },
        "id": "N_JJfi5cM8yG",
        "outputId": "bb7737e7-9347-47bb-ea32-9667fa2c6786"
      },
      "execution_count": null,
      "outputs": [
        {
          "output_type": "stream",
          "name": "stdout",
          "text": [
            "{1.5, 10, 'python', 5}\n"
          ]
        }
      ]
    },
    {
      "cell_type": "code",
      "source": [
        "a = {'a','c','d'}\n",
        "b = {'c','d',2}\n",
        "print('a U b =', a|b)"
      ],
      "metadata": {
        "colab": {
          "base_uri": "https://localhost:8080/"
        },
        "id": "56DLEJpXNZI6",
        "outputId": "2eda6524-3fbe-4c91-8fb9-9bf39fa0c643"
      },
      "execution_count": null,
      "outputs": [
        {
          "output_type": "stream",
          "name": "stdout",
          "text": [
            "a U b = {'d', 2, 'c', 'a'}\n"
          ]
        }
      ]
    },
    {
      "cell_type": "code",
      "source": [
        "a = {100,7,8}\n",
        "b = {200,4,7}\n",
        "print(a&b)"
      ],
      "metadata": {
        "colab": {
          "base_uri": "https://localhost:8080/"
        },
        "id": "xQqe0qeQOHBf",
        "outputId": "b9d01427-403c-47a6-af35-097b5290a69f"
      },
      "execution_count": null,
      "outputs": [
        {
          "output_type": "stream",
          "name": "stdout",
          "text": [
            "{7}\n"
          ]
        }
      ]
    },
    {
      "cell_type": "code",
      "source": [
        "dict = {1:'hello',2:7.4,3:'class'}\n",
        "print(dict)\n"
      ],
      "metadata": {
        "colab": {
          "base_uri": "https://localhost:8080/"
        },
        "id": "WspPvs6oOe20",
        "outputId": "3739feb8-29d5-4905-9207-e61d5a8ec4b3"
      },
      "execution_count": null,
      "outputs": [
        {
          "output_type": "stream",
          "name": "stdout",
          "text": [
            "{1: 'hello', 2: 7.4, 3: 'class'}\n"
          ]
        }
      ]
    },
    {
      "cell_type": "code",
      "source": [
        "dict = {1:'hello',2:7.4,3:'class'}\n",
        "print(dict[2])"
      ],
      "metadata": {
        "colab": {
          "base_uri": "https://localhost:8080/"
        },
        "id": "_Pg6lVZKPORV",
        "outputId": "54f66b90-7260-4e1e-b49f-46bde32e4da5"
      },
      "execution_count": null,
      "outputs": [
        {
          "output_type": "stream",
          "name": "stdout",
          "text": [
            "7.4\n"
          ]
        }
      ]
    },
    {
      "cell_type": "code",
      "source": [
        "dict = {1:'hello',2:7.4,3:'class'}\n",
        "dict[3] = 'python'\n",
        "print(dict)"
      ],
      "metadata": {
        "colab": {
          "base_uri": "https://localhost:8080/"
        },
        "id": "5U4NCuHtPYID",
        "outputId": "b2802d05-5503-432a-e864-507d635b3081"
      },
      "execution_count": null,
      "outputs": [
        {
          "output_type": "stream",
          "name": "stdout",
          "text": [
            "{1: 'hello', 2: 7.4, 3: 'python'}\n"
          ]
        }
      ]
    },
    {
      "cell_type": "code",
      "source": [
        "x = 15\n",
        "y = 10\n",
        "print('x+y=',x+y)\n",
        "print('x-y=',x-y)\n",
        "print('x*y=',x*y)\n",
        "print('x/y=',x/y)\n",
        "print('x%y=',x%y)\n",
        "print('x//y=',x//y)\n",
        "print('x**y=',x**y)\n"
      ],
      "metadata": {
        "id": "nSvdY4cQPlkP",
        "colab": {
          "base_uri": "https://localhost:8080/"
        },
        "outputId": "26b0569d-5c60-4af9-84c6-e4be19f5fc3a"
      },
      "execution_count": null,
      "outputs": [
        {
          "output_type": "stream",
          "name": "stdout",
          "text": [
            "x+y= 25\n",
            "x-y= 5\n",
            "x*y= 150\n",
            "x/y= 1.5\n",
            "x%y= 5\n",
            "x//y= 1\n",
            "x**y= 576650390625\n"
          ]
        }
      ]
    },
    {
      "cell_type": "code",
      "source": [
        "x=8\n",
        "y=15\n",
        "('x>y is',x>y)\n",
        "print('x<y is',x<y)\n",
        "print('x==y is',x==y)\n",
        "print('x!=y is',x!=y)\n",
        "print('x>=y is',x>=y)\n",
        "print('x<=y is',x<=y)\n"
      ],
      "metadata": {
        "id": "V_NI1pqdds7T",
        "colab": {
          "base_uri": "https://localhost:8080/"
        },
        "outputId": "870db217-d726-4932-fc2a-4ce1c7d90e3b"
      },
      "execution_count": null,
      "outputs": [
        {
          "output_type": "stream",
          "name": "stdout",
          "text": [
            "x<y is True\n",
            "x==y is False\n",
            "x!=y is True\n",
            "x>=y is False\n",
            "x<=y is True\n"
          ]
        }
      ]
    },
    {
      "cell_type": "code",
      "source": [
        "a = True\n",
        "b = False\n",
        "print('a and b is',a and b)\n",
        "print('a or b is', a or b)\n",
        "print('not a is',not a)"
      ],
      "metadata": {
        "colab": {
          "base_uri": "https://localhost:8080/"
        },
        "id": "AledyTMEO8-u",
        "outputId": "e13019e6-2876-4b8e-b9ac-0569ef4c2e5c"
      },
      "execution_count": null,
      "outputs": [
        {
          "output_type": "stream",
          "name": "stdout",
          "text": [
            "a and b is False\n",
            "a or b is True\n",
            "not a is False\n"
          ]
        }
      ]
    },
    {
      "cell_type": "code",
      "source": [
        "a1 = 3\n",
        "b1 = 3\n",
        "a2 = 'python'\n",
        "b2 = 'python'\n",
        "a3 = [4,5,6]\n",
        "b3 = [4,5,6]\n",
        "print(a1 is not b1)\n",
        "print(a2 is b2)\n",
        "print(a3 is b3)"
      ],
      "metadata": {
        "colab": {
          "base_uri": "https://localhost:8080/"
        },
        "id": "u9gwP_KXPUM9",
        "outputId": "c393708c-5325-4963-f45c-fca4be95fd8b"
      },
      "execution_count": null,
      "outputs": [
        {
          "output_type": "stream",
          "name": "stdout",
          "text": [
            "False\n",
            "True\n",
            "False\n"
          ]
        }
      ]
    },
    {
      "cell_type": "code",
      "source": [
        "a ='python operation'\n",
        "b ={1:'x',2:'y'}\n",
        "print('p' in a)\n",
        "print('python' not in a)\n",
        "print(1 in b)\n",
        "print('y' in b)\n"
      ],
      "metadata": {
        "colab": {
          "base_uri": "https://localhost:8080/"
        },
        "id": "EvtexXD5QTPl",
        "outputId": "075692de-583f-46a4-8a60-4d93150a8ad0"
      },
      "execution_count": null,
      "outputs": [
        {
          "output_type": "stream",
          "name": "stdout",
          "text": [
            "True\n",
            "False\n",
            "True\n",
            "False\n"
          ]
        }
      ]
    },
    {
      "cell_type": "code",
      "source": [
        "num = 5\n",
        "if(num < 10):\n",
        "  print('num is smaler than 10')\n",
        "  \n",
        "print('this statement will always be executed')\n"
      ],
      "metadata": {
        "colab": {
          "base_uri": "https://localhost:8080/"
        },
        "id": "p2c8RLeXQ6Us",
        "outputId": "872e472c-226f-4623-e229-7d3461edb859"
      },
      "execution_count": null,
      "outputs": [
        {
          "output_type": "stream",
          "name": "stdout",
          "text": [
            "num is smaler than 10\n",
            "this statement will always be executed\n"
          ]
        }
      ]
    },
    {
      "cell_type": "code",
      "source": [
        "a = 7\n",
        "b = 0\n",
        "if (a>b):\n",
        "  print('a is greater than b')"
      ],
      "metadata": {
        "colab": {
          "base_uri": "https://localhost:8080/"
        },
        "id": "iA38Xvb5Rlu9",
        "outputId": "5bc36d1e-edbf-4d5a-d892-bd7df070e795"
      },
      "execution_count": null,
      "outputs": [
        {
          "output_type": "stream",
          "name": "stdout",
          "text": [
            "a is greater than b\n"
          ]
        }
      ]
    },
    {
      "cell_type": "code",
      "source": [
        "a = 7\n",
        "b = 0\n",
        "if (a>b):\n",
        "  print('b is greater than a')"
      ],
      "metadata": {
        "colab": {
          "base_uri": "https://localhost:8080/"
        },
        "id": "Xh4vqF6XR0kd",
        "outputId": "5969e025-fbd6-4f34-8db0-b73dd13f2714"
      },
      "execution_count": null,
      "outputs": [
        {
          "output_type": "stream",
          "name": "stdout",
          "text": [
            "b is greater than a\n"
          ]
        }
      ]
    },
    {
      "cell_type": "code",
      "source": [
        "a = 7\n",
        "b = 0\n",
        "if (a):\n",
        "  print('true')\n",
        "  "
      ],
      "metadata": {
        "colab": {
          "base_uri": "https://localhost:8080/"
        },
        "id": "BBEA8L_tSIeM",
        "outputId": "e8478457-f619-4ef7-acd9-1a2d4451dbc5"
      },
      "execution_count": null,
      "outputs": [
        {
          "output_type": "stream",
          "name": "stdout",
          "text": [
            "true\n"
          ]
        }
      ]
    },
    {
      "cell_type": "code",
      "source": [
        "if ('python' in ['java','python','c#']):\n",
        "  print('true')\n",
        "  "
      ],
      "metadata": {
        "colab": {
          "base_uri": "https://localhost:8080/"
        },
        "id": "acJ-rseRSaLD",
        "outputId": "62b8e54b-de13-4019-c60a-b94d3a4350d7"
      },
      "execution_count": null,
      "outputs": [
        {
          "output_type": "stream",
          "name": "stdout",
          "text": [
            "true\n"
          ]
        }
      ]
    },
    {
      "cell_type": "code",
      "source": [
        "passing_score = 60\n",
        "my_score = 67\n",
        "if(my_score >= passing_score):\n",
        "  print('congratulation! you have passed your exam')"
      ],
      "metadata": {
        "colab": {
          "base_uri": "https://localhost:8080/"
        },
        "id": "UtB-pg7IStyn",
        "outputId": "ce385db0-db96-4d4e-da31-c109e6c79d1d"
      },
      "execution_count": null,
      "outputs": [
        {
          "output_type": "stream",
          "name": "stdout",
          "text": [
            "congratulation! you have passed your exam\n"
          ]
        }
      ]
    },
    {
      "cell_type": "code",
      "source": [
        "passing_score = 60\n",
        "my_score = 67\n",
        "if(my_score >= passing_score):\n",
        "  print('you have passed your exam')\n",
        "\n",
        "  \n",
        "  print('congratulation!')"
      ],
      "metadata": {
        "colab": {
          "base_uri": "https://localhost:8080/"
        },
        "id": "UDSN6YwzTToT",
        "outputId": "73f7ec1c-7cdc-4ebc-82c2-dcea6b287e7e"
      },
      "execution_count": null,
      "outputs": [
        {
          "output_type": "stream",
          "name": "stdout",
          "text": [
            "you have passed your exam\n",
            "congratulation!\n"
          ]
        }
      ]
    },
    {
      "cell_type": "code",
      "source": [
        "num = 5\n",
        "if(num > 10):\n",
        "  print('number is greater than 10')\n",
        "else:\n",
        "  print('number less than 10')\n",
        "print('this statement will be execued')\n",
        "    \n"
      ],
      "metadata": {
        "colab": {
          "base_uri": "https://localhost:8080/"
        },
        "id": "ePpcQn6nTpuc",
        "outputId": "4a6dd099-4c07-4c5f-880e-6c0b2c43ada4"
      },
      "execution_count": null,
      "outputs": [
        {
          "output_type": "stream",
          "name": "stdout",
          "text": [
            "number less than 10\n",
            "this statement will be execued\n"
          ]
        }
      ]
    },
    {
      "cell_type": "code",
      "source": [
        " a = 7\n",
        " b = 0\n",
        " if (a>b):\n",
        "   print('a is greater than b')\n",
        "else:\n",
        "  print('b is greater than a')\n",
        "     "
      ],
      "metadata": {
        "colab": {
          "base_uri": "https://localhost:8080/"
        },
        "id": "ljDxFgstUMDM",
        "outputId": "4a5b8489-003f-4933-a3f1-137f9aa9afda"
      },
      "execution_count": null,
      "outputs": [
        {
          "output_type": "stream",
          "name": "stdout",
          "text": [
            "a is greater than b\n"
          ]
        }
      ]
    },
    {
      "cell_type": "code",
      "source": [
        " a = 7\n",
        " b = 0\n",
        " if (a<b):\n",
        "   print('a is smaller than b')\n",
        "else:\n",
        "  print('b is smaller than a')"
      ],
      "metadata": {
        "colab": {
          "base_uri": "https://localhost:8080/"
        },
        "id": "IIGRYu3AUns0",
        "outputId": "27dfd5b7-4d97-4630-9c83-426403cff6d0"
      },
      "execution_count": null,
      "outputs": [
        {
          "output_type": "stream",
          "name": "stdout",
          "text": [
            "b is smaller than a\n"
          ]
        }
      ]
    },
    {
      "cell_type": "code",
      "source": [
        "passing_score = 60 \n",
        "my_score = 67\n",
        "if(my_score >= passing_score):\n",
        "  print('congratulation! you have passed your exam')\n",
        "  print('you are passed in the exam')\n",
        "else:\n",
        "  print('sorry! you failed the exam, better luck in the next time')  \n"
      ],
      "metadata": {
        "id": "N1l2L1gqUxd0",
        "colab": {
          "base_uri": "https://localhost:8080/"
        },
        "outputId": "c4693168-201c-4b70-d0b8-d9eb68044c3c"
      },
      "execution_count": null,
      "outputs": [
        {
          "output_type": "stream",
          "name": "stdout",
          "text": [
            "congratulation! you have passed your exam\n",
            "you are passed in the exam\n"
          ]
        }
      ]
    },
    {
      "cell_type": "code",
      "source": [
        "passing_score = 60 \n",
        "my_score = 47\n",
        "if(my_score >= passing_score):\n",
        "  print('congratulation! you have passed your exam')\n",
        "  print('you are passed in the exam')\n",
        "else:\n",
        "  print('sorry! you failed the exam, better luck in the next time')  "
      ],
      "metadata": {
        "colab": {
          "base_uri": "https://localhost:8080/"
        },
        "id": "O7zLc-k6WJyN",
        "outputId": "9463a48a-d858-4b72-9b33-ec6168b0e3f0"
      },
      "execution_count": null,
      "outputs": [
        {
          "output_type": "stream",
          "name": "stdout",
          "text": [
            "sorry! you failed the exam, better luck in the next time\n"
          ]
        }
      ]
    },
    {
      "cell_type": "code",
      "source": [
        "num = 10\n",
        "if (num == 0):\n",
        "  print('number is zero')\n",
        "elif(num>5):\n",
        "  print('number is greater than 5')\n",
        "else:\n",
        "  print('number is smaller than 5')    \n"
      ],
      "metadata": {
        "colab": {
          "base_uri": "https://localhost:8080/"
        },
        "id": "TAvautlPWdKh",
        "outputId": "2fd6d605-ebf5-494a-8123-e809b1b3c231"
      },
      "execution_count": null,
      "outputs": [
        {
          "output_type": "stream",
          "name": "stdout",
          "text": [
            "number is greater than 5\n"
          ]
        }
      ]
    },
    {
      "cell_type": "code",
      "source": [
        "num = -7\n",
        "if(num>0):\n",
        "  print('number is positive')\n",
        "elif(num<0):\n",
        "  print('number is negative')\n",
        "else:\n",
        "  print('number is zero')"
      ],
      "metadata": {
        "colab": {
          "base_uri": "https://localhost:8080/"
        },
        "id": "3haYJXXsXTNr",
        "outputId": "83375d11-c3ba-4530-dde1-685bd707d118"
      },
      "execution_count": null,
      "outputs": [
        {
          "output_type": "stream",
          "name": "stdout",
          "text": [
            "number is negative\n"
          ]
        }
      ]
    },
    {
      "cell_type": "code",
      "source": [
        "num = 5 \n",
        "if(num>0):\n",
        "  print('number is positive')\n",
        "if(num<10):\n",
        "  print('number is less than 10')  "
      ],
      "metadata": {
        "id": "eXz_9XRtX1YD",
        "colab": {
          "base_uri": "https://localhost:8080/"
        },
        "outputId": "edafd0ac-425e-4a05-d771-e693f9af1261"
      },
      "execution_count": null,
      "outputs": [
        {
          "output_type": "stream",
          "name": "stdout",
          "text": [
            "number is positive\n",
            "number is less than 10\n"
          ]
        }
      ]
    }
  ]
}