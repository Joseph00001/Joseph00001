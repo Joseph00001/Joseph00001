{
  "nbformat": 4,
  "nbformat_minor": 0,
  "metadata": {
    "colab": {
      "name": "16/03python.ipynb",
      "provenance": [],
      "collapsed_sections": [],
      "authorship_tag": "ABX9TyNkrZwQZGk3JcSpHSaT8W/V",
      "include_colab_link": true
    },
    "kernelspec": {
      "name": "python3",
      "display_name": "Python 3"
    },
    "language_info": {
      "name": "python"
    }
  },
  "cells": [
    {
      "cell_type": "markdown",
      "metadata": {
        "id": "view-in-github",
        "colab_type": "text"
      },
      "source": [
        "<a href=\"https://colab.research.google.com/github/Joseph00001/Joseph00001/blob/main/16_03python.ipynb\" target=\"_parent\"><img src=\"https://colab.research.google.com/assets/colab-badge.svg\" alt=\"Open In Colab\"/></a>"
      ]
    },
    {
      "cell_type": "code",
      "execution_count": 9,
      "metadata": {
        "colab": {
          "base_uri": "https://localhost:8080/"
        },
        "id": "75TWQxeeL7LA",
        "outputId": "536567d8-3a10-4c8c-b268-52c7fa79dc7f"
      },
      "outputs": [
        {
          "output_type": "stream",
          "name": "stdout",
          "text": [
            "Choice 1:add,2:sub,3:div,4:multi,5:exit\n",
            "Enter the choice:5\n",
            "choose the correct opertion\n"
          ]
        }
      ],
      "source": [
        "print(\"Choice 1:add,2:sub,3:div,4:multi,5:exit\")\n",
        "c=int(input(\"Enter the choice:\"))\n",
        "if(c==1):\n",
        "  print(\"Add\")\n",
        "  A=int(input(\"Enter the value of a:\"))\n",
        "  B=int(input(\"Enter the value of b:\"))\n",
        "  D=A+B\n",
        "  print(\"the result of a+b =\",D)\n",
        "elif(c==2):\n",
        "  print(\"sub\")\n",
        "  A=int(input(\"Enter the value of a:\"))\n",
        "  B=int(input(\"Enter the value of b:\"))\n",
        "  D=A-B\n",
        "  print(\"the result of a+b =\",D)\n",
        "elif(c==3):\n",
        "  print(\"div\")\n",
        "  A=int(input(\"Enter the value of a:\"))\n",
        "  B=int(input(\"Enter the value of b:\"))\n",
        "  D=A/B\n",
        "  print(\"the result of a+b =\",D)\n",
        "elif(c==4):\n",
        "  print(\"multi\")\n",
        "  A=int(input(\"Enter the value of a:\"))\n",
        "  B=int(input(\"Enter the value of b:\"))\n",
        "  D=A*B\n",
        "  print(\"the result of a+b =\",D)\n",
        "elif(c==5):\n",
        "  print(\"choose the correct opertion\" )"
      ]
    }
  ]
}