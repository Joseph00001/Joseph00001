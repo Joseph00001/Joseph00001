{
  "nbformat": 4,
  "nbformat_minor": 0,
  "metadata": {
    "colab": {
      "name": "Untitled1.ipynb",
      "provenance": [],
      "collapsed_sections": [],
      "authorship_tag": "ABX9TyP98xx4IaG6OY6SK3RbkJNA"
    },
    "kernelspec": {
      "name": "python3",
      "display_name": "Python 3"
    },
    "language_info": {
      "name": "python"
    }
  },
  "cells": [
    {
      "cell_type": "code",
      "execution_count": null,
      "metadata": {
        "colab": {
          "base_uri": "https://localhost:8080/"
        },
        "id": "1oh-fLZh434R",
        "outputId": "7a1c0f42-4283-4b25-93db-956166e9677c"
      },
      "outputs": [
        {
          "output_type": "stream",
          "name": "stdout",
          "text": [
            "a= True b= False\n",
            "a= False b= False\n"
          ]
        }
      ],
      "source": [
        "a = True\n",
        "b = False\n",
        "print('a=',a , 'b=',b)\n",
        "a = False\n",
        "print('a=',a , 'b=',b)"
      ]
    },
    {
      "cell_type": "code",
      "source": [
        "dividend, divisor =eval(input('please enter two numbers to divide:  '))\n",
        "if divisor  !=0:\n",
        "  print(dividend,  '/',  divisor,  '=', dividend/divisor)"
      ],
      "metadata": {
        "colab": {
          "base_uri": "https://localhost:8080/"
        },
        "id": "bsn7E_145h-f",
        "outputId": "ba53ed91-4298-406f-db11-1b0c00213319"
      },
      "execution_count": null,
      "outputs": [
        {
          "output_type": "stream",
          "name": "stdout",
          "text": [
            "please enter two numbers to divide:  2,3\n",
            "2 / 3 = 0.6666666666666666\n"
          ]
        }
      ]
    },
    {
      "cell_type": "code",
      "source": [
        "dividend = int(input('enter the dividend number:  '))\n",
        "divisor = int(input('enter the divisor number:  '))\n",
        "if divisor  !=0:\n",
        "  print(dividend,  '/',  divisor,  '=', dividend/divisor)"
      ],
      "metadata": {
        "colab": {
          "base_uri": "https://localhost:8080/"
        },
        "id": "j5RjFZVI5jsA",
        "outputId": "5dbbea2a-74ea-451b-ffb3-9773718be078"
      },
      "execution_count": null,
      "outputs": [
        {
          "output_type": "stream",
          "name": "stdout",
          "text": [
            "enter the dividend number:  2\n",
            "enter the divisor number:  1\n",
            "2 / 1 = 2.0\n"
          ]
        }
      ]
    },
    {
      "cell_type": "code",
      "source": [
        "dividend = int(input('enter the dividend value:  '))\n",
        "divisor = int(input('enter the divisor value:  '))\n",
        "if divisor  !=0:\n",
        "  quotient = dividend/divisor\n",
        "  print(dividend,'/', divisor, '=',quotient)\n",
        "  print('program finished')"
      ],
      "metadata": {
        "colab": {
          "base_uri": "https://localhost:8080/"
        },
        "id": "q6RewiJu5jov",
        "outputId": "e2ae277c-aa67-4571-d7a4-eb7bc593c3ee"
      },
      "execution_count": null,
      "outputs": [
        {
          "output_type": "stream",
          "name": "stdout",
          "text": [
            "enter the dividend value:  7\n",
            "enter the divisor value:  10\n",
            "7 / 10 = 0.7\n",
            "program finished\n"
          ]
        }
      ]
    },
    {
      "cell_type": "code",
      "source": [
        "dividend = int(input('please enter the dividend value:  '))\n",
        "divisor = int(input('please enter the divisor value:  '))\n",
        "if divisor  !=0:\n",
        "  print(dividend,'/',divisor,'=', dividend/divisor)\n",
        "else:\n",
        "  print('division by zero is not allowed')"
      ],
      "metadata": {
        "colab": {
          "base_uri": "https://localhost:8080/"
        },
        "id": "eI2mGV2U5jmo",
        "outputId": "d0497da0-47ac-4adc-92ed-fc808419f44a"
      },
      "execution_count": null,
      "outputs": [
        {
          "output_type": "stream",
          "name": "stdout",
          "text": [
            "please enter the dividend value:  25\n",
            "please enter the divisor value:  2\n",
            "25 / 2 = 12.5\n"
          ]
        }
      ]
    },
    {
      "cell_type": "code",
      "source": [
        "dividend = int(input('please enter the dividend value:  '))\n",
        "divisor = int(input('please enter the divisor value:  '))\n",
        "if divisor  !=0:\n",
        "  print(dividend,'/',divisor,'=', dividend/divisor)\n",
        "else:\n",
        "  print('division by zero is not allowed')"
      ],
      "metadata": {
        "colab": {
          "base_uri": "https://localhost:8080/"
        },
        "id": "PkreNXZE5jkT",
        "outputId": "e1a87d78-c01d-4e68-dc9e-49c4005ad793"
      },
      "execution_count": null,
      "outputs": [
        {
          "output_type": "stream",
          "name": "stdout",
          "text": [
            "please enter the dividend value:  4\n",
            "please enter the divisor value:  4\n",
            "4 / 4 = 1.0\n"
          ]
        }
      ]
    },
    {
      "cell_type": "code",
      "source": [
        "value = eval(input('please enter an integer in the range  0...5:  '))\n",
        "if value < 0:\n",
        "  print('too small')\n",
        "else:\n",
        "  if value ==0:\n",
        "    print('zero')\n",
        "  else:\n",
        "    if value ==1:\n",
        "      print('one')\n",
        "    else:\n",
        "      if value ==2:\n",
        "        print('two')\n",
        "      else:\n",
        "        if value ==3:\n",
        "          print('three')\n",
        "        else:\n",
        "          if value ==4:\n",
        "            print('four')\n",
        "          else:\n",
        "            if value ==5:\n",
        "              print('five')\n",
        "            else:\n",
        "              print('too large')\n",
        "\n",
        "              print('done')   "
      ],
      "metadata": {
        "colab": {
          "base_uri": "https://localhost:8080/"
        },
        "id": "HEJCh6095jiO",
        "outputId": "d07f67bd-96f5-4dbc-d11a-61a3c8ab6ac6"
      },
      "execution_count": null,
      "outputs": [
        {
          "output_type": "stream",
          "name": "stdout",
          "text": [
            "please enter an integer in the range  0...5:  4\n",
            "four\n"
          ]
        }
      ]
    },
    {
      "cell_type": "code",
      "source": [
        "value = eval(input('please enter an integer in the range  0...5:  '))\n",
        "if value < 0:\n",
        "  print('too small')\n",
        "elif value ==0:\n",
        "  print('zero')\n",
        "elif value ==1:\n",
        "    print('one')\n",
        "elif value ==2:\n",
        "      print('two') \n",
        "elif value ==3:\n",
        "        print('three')\n",
        "elif value ==4:\n",
        "          print('four')\n",
        "elif value ==5:\n",
        "            print('five')\n",
        "else:\n",
        "              print('too large')\n",
        "\n",
        "\n",
        "              print('done') "
      ],
      "metadata": {
        "colab": {
          "base_uri": "https://localhost:8080/"
        },
        "id": "HAjpbPaq57y5",
        "outputId": "5a2b41cf-01c2-4f3c-e8f5-b871651bd0f1"
      },
      "execution_count": null,
      "outputs": [
        {
          "output_type": "stream",
          "name": "stdout",
          "text": [
            "please enter an integer in the range  0...5:  9\n",
            "too large\n",
            "done\n"
          ]
        }
      ]
    },
    {
      "cell_type": "code",
      "source": [
        "value = eval(input('please enter an integer value in the range  0.....10:  '))\n",
        "if value >=0:\n",
        "  print('in range')\n",
        "  print('done')\n",
        "else:\n",
        "  print('out of range')\n",
        "  print('done')"
      ],
      "metadata": {
        "colab": {
          "base_uri": "https://localhost:8080/"
        },
        "id": "1Hqq_V715jgH",
        "outputId": "3660922a-adef-414e-a15b-eaa03992727b"
      },
      "execution_count": null,
      "outputs": [
        {
          "output_type": "stream",
          "name": "stdout",
          "text": [
            "please enter an integer value in the range  0.....10:  4\n",
            "in range\n",
            "done\n"
          ]
        }
      ]
    },
    {
      "cell_type": "code",
      "source": [
        "value = eval(input('please enter an integer value in the range  0.....10:  '))\n",
        "if value <=10:\n",
        "  print('in range')\n",
        "  print('done')"
      ],
      "metadata": {
        "colab": {
          "base_uri": "https://localhost:8080/"
        },
        "id": "8NCslCFb5jeC",
        "outputId": "8b490feb-8baa-4502-e43e-1e8a92dcc7b8"
      },
      "execution_count": null,
      "outputs": [
        {
          "name": "stdout",
          "output_type": "stream",
          "text": [
            "please enter an integer value in the range  0.....10:  11\n"
          ]
        }
      ]
    },
    {
      "cell_type": "code",
      "source": [
        "value = eval(input('please enter an integer value in range  0.....10:  '))\n",
        "if value >=0 and value <=10:\n",
        "  print('in range')\n",
        "  print('done')"
      ],
      "metadata": {
        "colab": {
          "base_uri": "https://localhost:8080/"
        },
        "id": "QGxQ4t7h5jb9",
        "outputId": "ff622e4d-53ff-492d-f45a-e6db209d6e92"
      },
      "execution_count": null,
      "outputs": [
        {
          "output_type": "stream",
          "name": "stdout",
          "text": [
            "please enter an integer value in range  0.....10:  3\n",
            "in range\n",
            "done\n"
          ]
        }
      ]
    },
    {
      "cell_type": "code",
      "source": [
        "value = eval(input('please enter an integer value in range  0.....10:  '))\n",
        "if value  >=0:\n",
        "  if value  <=10:\n",
        "    print(value,  'value is in range')\n",
        "  else:\n",
        "      print(value,  'value is too long')\n",
        "else:\n",
        "  print(value,  'is too short')\n",
        "  print('done')      \n"
      ],
      "metadata": {
        "colab": {
          "base_uri": "https://localhost:8080/"
        },
        "id": "wdsGg3jc5jZz",
        "outputId": "57b714ae-d060-4118-dafb-56addcce21f2"
      },
      "execution_count": null,
      "outputs": [
        {
          "output_type": "stream",
          "name": "stdout",
          "text": [
            "please enter an integer value in range  0.....10:  70\n",
            "70 value is too long\n"
          ]
        }
      ]
    },
    {
      "cell_type": "code",
      "source": [
        "dividend, divisor = eval(input('enter dividend, divisor :  '))\n",
        "msg = dividend/divisor if divisor !=0 else 'error, cannot divided by zero'\n",
        "print(msg)"
      ],
      "metadata": {
        "colab": {
          "base_uri": "https://localhost:8080/"
        },
        "id": "6_lFyE5J5jXg",
        "outputId": "1b7dfe9d-37b6-408e-b8fa-7b9151d733bd"
      },
      "execution_count": null,
      "outputs": [
        {
          "output_type": "stream",
          "name": "stdout",
          "text": [
            "enter dividend, divisor :  7,3.5\n",
            "2.0\n"
          ]
        }
      ]
    },
    {
      "cell_type": "code",
      "source": [
        "count = 1\n",
        "while count <= 5:\n",
        "  print(count)\n",
        "  count +=1"
      ],
      "metadata": {
        "colab": {
          "base_uri": "https://localhost:8080/"
        },
        "id": "_JT4ibP-5jVX",
        "outputId": "b8cc0c68-9bb1-4b6b-ec11-9eba83d24cf1"
      },
      "execution_count": null,
      "outputs": [
        {
          "output_type": "stream",
          "name": "stdout",
          "text": [
            "1\n",
            "2\n",
            "3\n",
            "4\n",
            "5\n"
          ]
        }
      ]
    },
    {
      "cell_type": "code",
      "source": [
        "entry = 0\n",
        "sum = 0\n",
        "print('enter numbers to sum, negative numbers ends list:  ')\n",
        "while entry >=0:\n",
        "  entry = eval(input())\n",
        "  if entry >=0:\n",
        "    sum += entry\n",
        "    print('sum=', sum)"
      ],
      "metadata": {
        "colab": {
          "base_uri": "https://localhost:8080/"
        },
        "id": "Nwaub7um5jTK",
        "outputId": "c3509ce9-b130-4771-ec7f-31f1bbe314e8"
      },
      "execution_count": null,
      "outputs": [
        {
          "name": "stdout",
          "output_type": "stream",
          "text": [
            "enter numbers to sum, negative numbers ends list:  \n",
            "4\n",
            "sum= 4\n",
            "5\n",
            "sum= 9\n",
            "2\n",
            "sum= 11\n",
            "7\n",
            "sum= 18\n",
            "6\n",
            "sum= 24\n",
            "4\n",
            "sum= 28\n",
            "2\n",
            "sum= 30\n",
            "7\n",
            "sum= 37\n",
            "9\n",
            "sum= 46\n",
            "0\n",
            "sum= 46\n",
            "9\n",
            "sum= 55\n",
            "999\n",
            "sum= 1054\n",
            "55\n",
            "sum= 1109\n",
            "-99\n"
          ]
        }
      ]
    },
    {
      "cell_type": "code",
      "source": [
        "n = 1\n",
        "while n <= 10:\n",
        "  print(n)\n",
        "  n += 1"
      ],
      "metadata": {
        "colab": {
          "base_uri": "https://localhost:8080/"
        },
        "id": "GAD0GE865jRT",
        "outputId": "dfa64849-adfc-4ef9-da3f-db72a41d57d4"
      },
      "execution_count": null,
      "outputs": [
        {
          "output_type": "stream",
          "name": "stdout",
          "text": [
            "1\n",
            "2\n",
            "3\n",
            "4\n",
            "5\n",
            "6\n",
            "7\n",
            "8\n",
            "9\n",
            "10\n"
          ]
        }
      ]
    },
    {
      "cell_type": "code",
      "source": [
        "n = 1\n",
        "stop = int(input())\n",
        "while n <= stop:\n",
        "  print(n)\n",
        "  n += 1"
      ],
      "metadata": {
        "colab": {
          "base_uri": "https://localhost:8080/"
        },
        "id": "VXgGrKkO5jPJ",
        "outputId": "cc4f2179-009d-4290-ab92-c0f1eb886388"
      },
      "execution_count": null,
      "outputs": [
        {
          "output_type": "stream",
          "name": "stdout",
          "text": [
            "3\n",
            "1\n",
            "2\n",
            "3\n"
          ]
        }
      ]
    },
    {
      "cell_type": "code",
      "source": [
        "done = False\n",
        "while not done:\n",
        "  entry = eval(input())\n",
        "  if entry == 999:\n",
        "    done = True\n",
        "  else:\n",
        "      print(entry)"
      ],
      "metadata": {
        "colab": {
          "base_uri": "https://localhost:8080/"
        },
        "id": "47YyobGz5jM1",
        "outputId": "5fef13e1-1eb4-4fcd-883d-a469d7c28dbe"
      },
      "execution_count": null,
      "outputs": [
        {
          "name": "stdout",
          "output_type": "stream",
          "text": [
            "4\n",
            "4\n",
            "5\n",
            "5\n",
            "6\n",
            "6\n",
            "77\n",
            "77\n",
            "88\n",
            "88\n",
            "99\n",
            "99\n",
            "999\n"
          ]
        }
      ]
    },
    {
      "cell_type": "code",
      "source": [
        "for n in range(21, 0, -3):\n",
        "  print(n,'',end='')"
      ],
      "metadata": {
        "colab": {
          "base_uri": "https://localhost:8080/"
        },
        "id": "Nx4ukikh5jKS",
        "outputId": "db86377b-7bb3-47a4-dade-4f5c07940b67"
      },
      "execution_count": null,
      "outputs": [
        {
          "output_type": "stream",
          "name": "stdout",
          "text": [
            "21 18 15 12 9 6 3 "
          ]
        }
      ]
    },
    {
      "cell_type": "code",
      "source": [
        "print('      1  2  3  4  5  6  7  8  9  10')\n",
        "print('     <------------------------------')\n",
        "for row in range(1,11):\n",
        "  if row < 10:\n",
        "    print('  ', end='')\n",
        "  print(row, '|', end='')\n",
        "  for column in range(1,11):\n",
        "     product = row*column;\n",
        "     if product < 100:\n",
        "       print(end='')\n",
        "       if product < 10:\n",
        "         print(end='')\n",
        "     print(product, end='') \n",
        "  print()     "
      ],
      "metadata": {
        "colab": {
          "base_uri": "https://localhost:8080/"
        },
        "id": "FnbcXWGt5jG7",
        "outputId": "e8037015-fd6a-460d-8648-2154559fde65"
      },
      "execution_count": null,
      "outputs": [
        {
          "output_type": "stream",
          "name": "stdout",
          "text": [
            "      1  2  3  4  5  6  7  8  9  10\n",
            "     <------------------------------\n",
            "  1 |12345678910\n",
            "  2 |2468101214161820\n",
            "  3 |36912151821242730\n",
            "  4 |481216202428323640\n",
            "  5 |5101520253035404550\n",
            "  6 |6121824303642485460\n",
            "  7 |7142128354249566370\n",
            "  8 |8162432404856647280\n",
            "  9 |9182736455463728190\n",
            "10 |102030405060708090100\n"
          ]
        }
      ]
    },
    {
      "cell_type": "code",
      "source": [
        "for first in 'ABC':\n",
        "  for second in 'ABC':\n",
        "    if second != first:\n",
        "      for third in 'ABC':\n",
        "        if third != first and third != second:\n",
        "          print(first+second+third)"
      ],
      "metadata": {
        "colab": {
          "base_uri": "https://localhost:8080/"
        },
        "id": "OIHyK8R55jE-",
        "outputId": "555c6ff9-0914-411d-c05c-86ff67bfa46f"
      },
      "execution_count": null,
      "outputs": [
        {
          "output_type": "stream",
          "name": "stdout",
          "text": [
            "ABC\n",
            "ACB\n",
            "BAC\n",
            "BCA\n",
            "CAB\n",
            "CBA\n"
          ]
        }
      ]
    },
    {
      "cell_type": "code",
      "source": [
        "entry = 0\n",
        "sum = 0\n",
        "print('enter numbers to sum, negative numbers ends list:  ')\n",
        "while True:\n",
        "  entry = eval(input())\n",
        "  if entry < 0:\n",
        "    break\n",
        "    sum += entry\n",
        "    print('sum=', sum)"
      ],
      "metadata": {
        "colab": {
          "base_uri": "https://localhost:8080/"
        },
        "id": "Izu2eMsn5jCh",
        "outputId": "384c31bf-ec0d-438f-8d98-324e4e46d356"
      },
      "execution_count": null,
      "outputs": [
        {
          "name": "stdout",
          "output_type": "stream",
          "text": [
            "enter numbers to sum, negative numbers ends list:  \n",
            "3\n",
            "4\n",
            "2\n",
            "8\n",
            "7\n",
            "5\n",
            "7\n",
            "4\n",
            "8\n",
            "2\n",
            "4\n",
            "5\n",
            "2\n",
            "-6\n"
          ]
        }
      ]
    },
    {
      "cell_type": "code",
      "source": [
        "sum = 0\n",
        "done = False;\n",
        "while not done:\n",
        "  val = eval(input('enter the positive integer(999 quits):  '))\n",
        "  if val < 0:\n",
        "    print('negative value', val , 'ignored')\n",
        "    continue;\n",
        "  if val != 999:\n",
        "    print('tallying', val)\n",
        "    sum += val\n",
        "  else:\n",
        "    done = (val == 999);\n",
        "print('sum=' , sum )   "
      ],
      "metadata": {
        "colab": {
          "base_uri": "https://localhost:8080/"
        },
        "id": "sMAlQtU75i_D",
        "outputId": "3e003e90-e0e6-44c4-c614-e1bd524a5f6c"
      },
      "execution_count": null,
      "outputs": [
        {
          "output_type": "stream",
          "name": "stdout",
          "text": [
            "enter the positive integer(999 quits):  999\n",
            "sum= 0\n"
          ]
        }
      ]
    },
    {
      "cell_type": "code",
      "source": [
        ""
      ],
      "metadata": {
        "id": "vtl4JfJQ5ibK"
      },
      "execution_count": null,
      "outputs": []
    }
  ]
}