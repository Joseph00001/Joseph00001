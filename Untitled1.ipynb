{
  "cells": [
    {
      "cell_type": "markdown",
      "metadata": {
        "id": "view-in-github",
        "colab_type": "text"
      },
      "source": [
        "<a href=\"https://colab.research.google.com/github/Joseph00001/Joseph00001/blob/main/Untitled1.ipynb\" target=\"_parent\"><img src=\"https://colab.research.google.com/assets/colab-badge.svg\" alt=\"Open In Colab\"/></a>"
      ]
    },
    {
      "cell_type": "code",
      "execution_count": null,
      "metadata": {
        "colab": {
          "base_uri": "https://localhost:8080/"
        },
        "id": "htBd6j9iVrgP",
        "outputId": "833a0dbf-aca3-4f1b-ddb0-2e15a2f98e25"
      },
      "outputs": [
        {
          "name": "stdout",
          "output_type": "stream",
          "text": [
            "a= True b= False\n",
            "a= False b= False\n"
          ]
        }
      ],
      "source": [
        "a = True\n",
        "b = False\n",
        "print('a=',a , 'b=',b)\n",
        "a = False\n",
        "print('a=',a , 'b=',b)"
      ]
    },
    {
      "cell_type": "code",
      "execution_count": null,
      "metadata": {
        "colab": {
          "base_uri": "https://localhost:8080/"
        },
        "id": "DOhpGkegXkpc",
        "outputId": "7ac0cc7c-c4e1-428a-9d8c-211f8e43663e"
      },
      "outputs": [
        {
          "name": "stdout",
          "output_type": "stream",
          "text": [
            "please enter two numbers to divide:  32,2\n",
            "32 / 2 = 16.0\n"
          ]
        }
      ],
      "source": [
        "dividend, divisor =eval(input('please enter two numbers to divide:  '))\n",
        "if divisor  !=0:\n",
        "  print(dividend,  '/',  divisor,  '=', dividend/divisor)"
      ]
    },
    {
      "cell_type": "code",
      "execution_count": null,
      "metadata": {
        "colab": {
          "base_uri": "https://localhost:8080/"
        },
        "id": "X0_0VBxEYieK",
        "outputId": "7d497e7a-9c13-4979-de54-6bfe919445db"
      },
      "outputs": [
        {
          "name": "stdout",
          "output_type": "stream",
          "text": [
            "enter the dividend number:  50\n",
            "enter the divisor number:  2\n",
            "50 / 2 = 25.0\n"
          ]
        }
      ],
      "source": [
        "dividend = int(input('enter the dividend number:  '))\n",
        "divisor = int(input('enter the divisor number:  '))\n",
        "if divisor  !=0:\n",
        "  print(dividend,  '/',  divisor,  '=', dividend/divisor)"
      ]
    },
    {
      "cell_type": "code",
      "execution_count": null,
      "metadata": {
        "colab": {
          "base_uri": "https://localhost:8080/"
        },
        "id": "VA7vCOdxZEVv",
        "outputId": "40d2f368-e27c-4adf-faaa-d5faa5a19376"
      },
      "outputs": [
        {
          "name": "stdout",
          "output_type": "stream",
          "text": [
            "enter the dividend value:  80\n",
            "enter the divisor value:  8\n",
            "80 / 8 = 10.0\n",
            "program finished\n"
          ]
        }
      ],
      "source": [
        "dividend = int(input('enter the dividend value:  '))\n",
        "divisor = int(input('enter the divisor value:  '))\n",
        "if divisor  !=0:\n",
        "  quotient = dividend/divisor\n",
        "  print(dividend,'/', divisor, '=',quotient)\n",
        "  print('program finished')"
      ]
    },
    {
      "cell_type": "code",
      "execution_count": null,
      "metadata": {
        "colab": {
          "base_uri": "https://localhost:8080/"
        },
        "id": "1o3MdPseaUn-",
        "outputId": "6331b83a-57ea-41d6-b2f2-cef2887e46e8"
      },
      "outputs": [
        {
          "name": "stdout",
          "output_type": "stream",
          "text": [
            "please enter the dividend value:  60\n",
            "please enter the divisor value:  4\n",
            "60 / 4 = 15.0\n"
          ]
        }
      ],
      "source": [
        "dividend = int(input('please enter the dividend value:  '))\n",
        "divisor = int(input('please enter the divisor value:  '))\n",
        "if divisor  !=0:\n",
        "  print(dividend,'/',divisor,'=', dividend/divisor)\n",
        "else:\n",
        "  print('division by zero is not allowed')"
      ]
    },
    {
      "cell_type": "code",
      "execution_count": null,
      "metadata": {
        "colab": {
          "base_uri": "https://localhost:8080/"
        },
        "id": "QxbxYiEwbc9d",
        "outputId": "58a930cf-18ac-4a25-8ad2-ced45637ab0f"
      },
      "outputs": [
        {
          "name": "stdout",
          "output_type": "stream",
          "text": [
            "please enter the dividend value:  50\n",
            "please enter the divisor value:  0\n",
            "division by zero is not allowed\n"
          ]
        }
      ],
      "source": [
        "dividend = int(input('please enter the dividend value:  '))\n",
        "divisor = int(input('please enter the divisor value:  '))\n",
        "if divisor  !=0:\n",
        "  print(dividend,'/',divisor,'=', dividend/divisor)\n",
        "else:\n",
        "  print('division by zero is not allowed')"
      ]
    },
    {
      "cell_type": "code",
      "execution_count": null,
      "metadata": {
        "colab": {
          "base_uri": "https://localhost:8080/"
        },
        "id": "MJqrhPUNbh1p",
        "outputId": "6f886add-d572-46a4-bd3e-44a9c0595fe8"
      },
      "outputs": [
        {
          "name": "stdout",
          "output_type": "stream",
          "text": [
            "please enter an integer in the range  0...5:  3\n",
            "three\n"
          ]
        }
      ],
      "source": [
        "value = eval(input('please enter an integer in the range  0...5:  '))\n",
        "if value < 0:\n",
        "  print('too small')\n",
        "else:\n",
        "  if value ==0:\n",
        "    print('zero')\n",
        "  else:\n",
        "    if value ==1:\n",
        "      print('one')\n",
        "    else:\n",
        "      if value ==2:\n",
        "        print('two')\n",
        "      else:\n",
        "        if value ==3:\n",
        "          print('three')\n",
        "        else:\n",
        "          if value ==4:\n",
        "            print('four')\n",
        "          else:\n",
        "            if value ==5:\n",
        "              print('five')\n",
        "            else:\n",
        "              print('too large')\n",
        "\n",
        "              print('done')            \n"
      ]
    },
    {
      "cell_type": "code",
      "execution_count": null,
      "metadata": {
        "colab": {
          "base_uri": "https://localhost:8080/"
        },
        "id": "YPdMEHLah9em",
        "outputId": "8a41dc4a-375c-4842-f87b-bd780c26e85f"
      },
      "outputs": [
        {
          "name": "stdout",
          "output_type": "stream",
          "text": [
            "please enter an integer in the range  0...5:  4\n",
            "four\n"
          ]
        }
      ],
      "source": [
        "value = eval(input('please enter an integer in the range  0...5:  '))\n",
        "if value < 0:\n",
        "  print('too small')\n",
        "elif value ==0:\n",
        "  print('zero')\n",
        "elif value ==1:\n",
        "    print('one')\n",
        "elif value ==2:\n",
        "      print('two') \n",
        "elif value ==3:\n",
        "        print('three')\n",
        "elif value ==4:\n",
        "          print('four')\n",
        "elif value ==5:\n",
        "            print('five')\n",
        "else:\n",
        "              print('too large')\n",
        "\n",
        "\n",
        "              print('done') "
      ]
    },
    {
      "cell_type": "code",
      "execution_count": null,
      "metadata": {
        "colab": {
          "base_uri": "https://localhost:8080/"
        },
        "id": "x_-7TVT4jb56",
        "outputId": "0774d639-c457-4839-db96-1e5302b66a76"
      },
      "outputs": [
        {
          "name": "stdout",
          "output_type": "stream",
          "text": [
            "please enter an integer value in the range  0.....10:  22\n",
            "in range\n",
            "done\n"
          ]
        }
      ],
      "source": [
        "value = eval(input('please enter an integer value in the range  0.....10:  '))\n",
        "if value >=0:\n",
        "  print('in range')\n",
        "  print('done')\n",
        "else:\n",
        "  print('out of range')\n",
        "  print('done')"
      ]
    },
    {
      "cell_type": "code",
      "execution_count": null,
      "metadata": {
        "colab": {
          "base_uri": "https://localhost:8080/"
        },
        "id": "04ww8-Upkt4y",
        "outputId": "ae148bfa-7195-433d-e2a7-5ccdc43b3a9a"
      },
      "outputs": [
        {
          "name": "stdout",
          "output_type": "stream",
          "text": [
            "please enter an integer value in the range  0.....10:  2\n",
            "in range\n",
            "done\n"
          ]
        }
      ],
      "source": [
        "value = eval(input('please enter an integer value in the range  0.....10:  '))\n",
        "if value <=10:\n",
        "  print('in range')\n",
        "  print('done')"
      ]
    },
    {
      "cell_type": "code",
      "execution_count": null,
      "metadata": {
        "colab": {
          "base_uri": "https://localhost:8080/"
        },
        "id": "j8rWibFxmpX0",
        "outputId": "6afef617-64a7-45e8-c32d-72c8c916ca50"
      },
      "outputs": [
        {
          "name": "stdout",
          "output_type": "stream",
          "text": [
            "please enter an integer value in range  0.....10:  7\n",
            "in range\n",
            "done\n"
          ]
        }
      ],
      "source": [
        "value = eval(input('please enter an integer value in range  0.....10:  '))\n",
        "if value >=0 and value <=10:\n",
        "  print('in range')\n",
        "  print('done')"
      ]
    },
    {
      "cell_type": "code",
      "execution_count": null,
      "metadata": {
        "colab": {
          "base_uri": "https://localhost:8080/"
        },
        "id": "Qg-SLAQPnbVB",
        "outputId": "40922540-4845-4432-f4c2-5dddc4a68107"
      },
      "outputs": [
        {
          "name": "stdout",
          "output_type": "stream",
          "text": [
            "please enter an integer value in range  0.....10:  22\n",
            "22 value is too long\n"
          ]
        }
      ],
      "source": [
        "value = eval(input('please enter an integer value in range  0.....10:  '))\n",
        "if value  >=0:\n",
        "  if value  <=10:\n",
        "    print(value,  'value is in range')\n",
        "  else:\n",
        "      print(value,  'value is too long')\n",
        "else:\n",
        "  print(value,  'is too short')\n",
        "  print('done')      \n"
      ]
    },
    {
      "cell_type": "code",
      "execution_count": null,
      "metadata": {
        "colab": {
          "base_uri": "https://localhost:8080/"
        },
        "id": "Wr2rLbmpoaFT",
        "outputId": "5b09ff8f-a76d-47f0-f465-56a8ed33520c"
      },
      "outputs": [
        {
          "name": "stdout",
          "output_type": "stream",
          "text": [
            "enter dividend, divisor :  22,2\n",
            "11.0\n"
          ]
        }
      ],
      "source": [
        "dividend, divisor = eval(input('enter dividend, divisor :  '))\n",
        "msg = dividend/divisor if divisor !=0 else 'error, cannot divided by zero'\n",
        "print(msg)"
      ]
    },
    {
      "cell_type": "code",
      "execution_count": null,
      "metadata": {
        "colab": {
          "base_uri": "https://localhost:8080/"
        },
        "id": "_2LtH7I0rDoi",
        "outputId": "7878648e-6b31-4b1b-ef25-848178f9b4d9"
      },
      "outputs": [
        {
          "name": "stdout",
          "output_type": "stream",
          "text": [
            "1\n",
            "2\n",
            "3\n",
            "4\n",
            "5\n"
          ]
        }
      ],
      "source": [
        "count = 1\n",
        "while count <= 5:\n",
        "  print(count)\n",
        "  count +=1"
      ]
    },
    {
      "cell_type": "code",
      "execution_count": null,
      "metadata": {
        "colab": {
          "base_uri": "https://localhost:8080/"
        },
        "id": "x-dwi8cQrwnQ",
        "outputId": "0fb06cd7-010f-43e7-f3b7-111adb6192a3"
      },
      "outputs": [
        {
          "name": "stdout",
          "output_type": "stream",
          "text": [
            "enter numbers to sum, negative numbers ends list:  \n",
            "7\n",
            "sum= 7\n",
            "9\n",
            "sum= 16\n",
            "7\n",
            "sum= 23\n",
            "-8\n"
          ]
        }
      ],
      "source": [
        "entry = 0\n",
        "sum = 0\n",
        "print('enter numbers to sum, negative numbers ends list:  ')\n",
        "while entry >=0:\n",
        "  entry = eval(input())\n",
        "  if entry >=0:\n",
        "    sum += entry\n",
        "    print('sum=', sum)"
      ]
    },
    {
      "cell_type": "code",
      "execution_count": null,
      "metadata": {
        "colab": {
          "base_uri": "https://localhost:8080/"
        },
        "id": "bIVFP6mus9oZ",
        "outputId": "55f021d9-9110-45d9-d801-5e38e5c69150"
      },
      "outputs": [
        {
          "name": "stdout",
          "output_type": "stream",
          "text": [
            "1\n",
            "2\n",
            "3\n",
            "4\n",
            "5\n",
            "6\n",
            "7\n",
            "8\n",
            "9\n",
            "10\n"
          ]
        }
      ],
      "source": [
        "n = 1\n",
        "while n <= 10:\n",
        "  print(n)\n",
        "  n += 1"
      ]
    },
    {
      "cell_type": "code",
      "execution_count": null,
      "metadata": {
        "colab": {
          "base_uri": "https://localhost:8080/"
        },
        "id": "nwq1WuhHtMGA",
        "outputId": "40ee92ab-a395-4113-f698-246af30fa616"
      },
      "outputs": [
        {
          "name": "stdout",
          "output_type": "stream",
          "text": [
            "24\n",
            "1\n",
            "2\n",
            "3\n",
            "4\n",
            "5\n",
            "6\n",
            "7\n",
            "8\n",
            "9\n",
            "10\n",
            "11\n",
            "12\n",
            "13\n",
            "14\n",
            "15\n",
            "16\n",
            "17\n",
            "18\n",
            "19\n",
            "20\n",
            "21\n",
            "22\n",
            "23\n",
            "24\n"
          ]
        }
      ],
      "source": [
        "n = 1\n",
        "stop = int(input())\n",
        "while n <= stop:\n",
        "  print(n)\n",
        "  n += 1"
      ]
    },
    {
      "cell_type": "code",
      "execution_count": null,
      "metadata": {
        "colab": {
          "base_uri": "https://localhost:8080/"
        },
        "id": "N5taCwistoPl",
        "outputId": "89ee21f0-e585-41a9-98e0-a7c54d8bf20d"
      },
      "outputs": [
        {
          "name": "stdout",
          "output_type": "stream",
          "text": [
            "55\n",
            "55\n",
            "76\n",
            "76\n",
            "66\n",
            "66\n",
            "999\n"
          ]
        }
      ],
      "source": [
        "done = False\n",
        "while not done:\n",
        "  entry = eval(input())\n",
        "  if entry == 999:\n",
        "    done = True\n",
        "  else:\n",
        "      print(entry)"
      ]
    },
    {
      "cell_type": "code",
      "execution_count": null,
      "metadata": {
        "colab": {
          "base_uri": "https://localhost:8080/"
        },
        "id": "tLTpXhmaulqQ",
        "outputId": "02ff81ec-d8cc-4591-bf51-fd73233ea17c"
      },
      "outputs": [
        {
          "name": "stdout",
          "output_type": "stream",
          "text": [
            "21 18 15 12 9 6 3 "
          ]
        }
      ],
      "source": [
        "for n in range(21, 0, -3):\n",
        "  print(n,'',end='')"
      ]
    },
    {
      "cell_type": "code",
      "execution_count": null,
      "metadata": {
        "colab": {
          "base_uri": "https://localhost:8080/"
        },
        "id": "MRIBnyaAvLua",
        "outputId": "863434bb-fc08-445e-8484-a02484db6693"
      },
      "outputs": [
        {
          "name": "stdout",
          "output_type": "stream",
          "text": [
            "      1  2  3  4  5  6  7  8  9  10\n",
            "     <------------------------------\n",
            "  1 |12345678910\n",
            "  2 |2468101214161820\n",
            "  3 |36912151821242730\n",
            "  4 |481216202428323640\n",
            "  5 |5101520253035404550\n",
            "  6 |6121824303642485460\n",
            "  7 |7142128354249566370\n",
            "  8 |8162432404856647280\n",
            "  9 |9182736455463728190\n",
            "10 |102030405060708090100\n"
          ]
        }
      ],
      "source": [
        "print('      1  2  3  4  5  6  7  8  9  10')\n",
        "print('     <------------------------------')\n",
        "for row in range(1,11):\n",
        "  if row < 10:\n",
        "    print('  ', end='')\n",
        "  print(row, '|', end='')\n",
        "  for column in range(1,11):\n",
        "     product = row*column;\n",
        "     if product < 100:\n",
        "       print(end='')\n",
        "       if product < 10:\n",
        "         print(end='')\n",
        "     print(product, end='') \n",
        "  print()     "
      ]
    },
    {
      "cell_type": "code",
      "execution_count": null,
      "metadata": {
        "colab": {
          "base_uri": "https://localhost:8080/"
        },
        "id": "ffLsNhBbxKQ1",
        "outputId": "203a3abf-38f3-43a8-cd04-46858ba45c86"
      },
      "outputs": [
        {
          "name": "stdout",
          "output_type": "stream",
          "text": [
            "ABC\n",
            "ACB\n",
            "BAC\n",
            "BCA\n",
            "CAB\n",
            "CBA\n"
          ]
        }
      ],
      "source": [
        "for first in 'ABC':\n",
        "  for second in 'ABC':\n",
        "    if second != first:\n",
        "      for third in 'ABC':\n",
        "        if third != first and third != second:\n",
        "          print(first+second+third)"
      ]
    },
    {
      "cell_type": "code",
      "execution_count": null,
      "metadata": {
        "colab": {
          "base_uri": "https://localhost:8080/"
        },
        "id": "a5ePfuCvx-5P",
        "outputId": "54019900-9de3-4533-ccfc-ab5dc18dfb27"
      },
      "outputs": [
        {
          "name": "stdout",
          "output_type": "stream",
          "text": [
            "enter numbers to sum, negative numbers ends list:  \n",
            "3\n",
            "4\n",
            "5\n",
            "6\n",
            "8\n",
            "-5\n"
          ]
        }
      ],
      "source": [
        "entry = 0\n",
        "sum = 0\n",
        "print('enter numbers to sum, negative numbers ends list:  ')\n",
        "while True:\n",
        "  entry = eval(input())\n",
        "  if entry < 0:\n",
        "    break\n",
        "    sum += entry\n",
        "    print('sum=', sum)"
      ]
    },
    {
      "cell_type": "code",
      "execution_count": null,
      "metadata": {
        "colab": {
          "base_uri": "https://localhost:8080/"
        },
        "id": "SMATRgvuyd6b",
        "outputId": "7a91fe94-9db1-44ed-f328-9b05db24851b"
      },
      "outputs": [
        {
          "name": "stdout",
          "output_type": "stream",
          "text": [
            "enter the positive integer(999 quits):  333\n",
            "tallying 333\n",
            "enter the positive integer(999 quits):  444\n",
            "tallying 444\n",
            "enter the positive integer(999 quits):  555\n",
            "tallying 555\n",
            "enter the positive integer(999 quits):  666\n",
            "tallying 666\n",
            "enter the positive integer(999 quits):  999\n",
            "sum= 1998\n"
          ]
        }
      ],
      "source": [
        "sum = 0\n",
        "done = False;\n",
        "while not done:\n",
        "  val = eval(input('enter the positive integer(999 quits):  '))\n",
        "  if val < 0:\n",
        "    print('negative value', val , 'ignored')\n",
        "    continue;\n",
        "  if val != 999:\n",
        "    print('tallying', val)\n",
        "    sum += val\n",
        "  else:\n",
        "    done = (val == 999);\n",
        "print('sum=' , sum )        "
      ]
    }
  ],
  "metadata": {
    "colab": {
      "collapsed_sections": [],
      "name": "Untitled1.ipynb",
      "provenance": [],
      "include_colab_link": true
    },
    "kernelspec": {
      "display_name": "Python 3",
      "name": "python3"
    },
    "language_info": {
      "name": "python"
    }
  },
  "nbformat": 4,
  "nbformat_minor": 0
}